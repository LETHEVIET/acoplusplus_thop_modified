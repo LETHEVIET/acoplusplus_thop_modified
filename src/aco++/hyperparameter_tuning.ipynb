{
 "cells": [
  {
   "cell_type": "code",
   "execution_count": 1,
   "metadata": {},
   "outputs": [],
   "source": [
    "from pathlib import Path\n",
    "import optuna\n",
    "import subprocess\n",
    "import pickle\n",
    "import numpy as np"
   ]
  },
  {
   "cell_type": "code",
   "execution_count": 2,
   "metadata": {},
   "outputs": [],
   "source": [
    "def run_command(command):\n",
    "    result = subprocess.run(command, capture_output=True)\n",
    "    assert (\n",
    "        result.returncode == 0\n",
    "    ), f\"\"\"\n",
    "command:\n",
    "{' '.join(command)}\n",
    "returncode: {result.returncode}\n",
    "stderr:\n",
    "{result.stderr.decode()}\n",
    "stdout:\n",
    "{result.stdout.decode()}\n",
    "\"\"\"\n",
    "    return result"
   ]
  },
  {
   "cell_type": "code",
   "execution_count": 3,
   "metadata": {},
   "outputs": [],
   "source": [
    "def objective(trial):\n",
    "    global acopp_dir, instance_name, debug_mode\n",
    "\n",
    "    ants = trial.suggest_int(\"ants\", 10, 500)\n",
    "    alpha = trial.suggest_float(\"alpha\", 0, 10)\n",
    "    beta = trial.suggest_float(\"beta\", 0, 10)\n",
    "    rho = trial.suggest_float(\"rho\", 0, 1)\n",
    "    q0 = trial.suggest_float(\"q0\", 0, 1)\n",
    "    ptries = trial.suggest_int(\"ptries\", 1, 5)\n",
    "\n",
    "    cluster_size = trial.suggest_int(\"cluster_size\", 10, 128)\n",
    "    sector = trial.suggest_int(\"sector\", 2, cluster_size)\n",
    "    n_cluster = trial.suggest_int(\"n_cluster\", 2, 1000 // cluster_size + 1)\n",
    "\n",
    "    command = [\n",
    "        'python3',\n",
    "        f'{acopp_dir}/run.py',\n",
    "        '--acopp_dir',\n",
    "        str(acopp_dir),\n",
    "        '--instance_name',\n",
    "        instance_name,\n",
    "        '--aaco_nc',\n",
    "        '--run_only',\n",
    "        '--experiment',\n",
    "        '--no_log',\n",
    "        # '--sol_dir',\n",
    "        # '../../solutions/temp',\n",
    "        '--silent',\n",
    "        '1',\n",
    "        '--random_seed',\n",
    "        str(np.random.randint(1,2147483647)),\n",
    "        '--alpha',\n",
    "        str(alpha),\n",
    "        '--beta',\n",
    "        str(beta),\n",
    "        '--rho',\n",
    "        str(rho),\n",
    "        '--q0',\n",
    "        str(q0),\n",
    "        '--ants',\n",
    "        str(ants),\n",
    "        '--ptries',\n",
    "        str(ptries),\n",
    "        '--sector',\n",
    "        str(sector),\n",
    "        '--cluster_size',\n",
    "        str(cluster_size),\n",
    "        '--n_cluster',\n",
    "        str(n_cluster),\n",
    "    ]\n",
    "    if debug_mode:\n",
    "        command += [\"--time\", \"10\"]\n",
    "    \n",
    "    try:\n",
    "        result = run_command(command)\n",
    "        stdout_log = result.stdout.decode()\n",
    "        profit = int(stdout_log)\n",
    "    except:\n",
    "        profit = -1\n",
    "\n",
    "    return profit"
   ]
  },
  {
   "cell_type": "code",
   "execution_count": 4,
   "metadata": {},
   "outputs": [],
   "source": [
    "debug_mode = False\n",
    "acopp_dir = Path(\"./\")\n",
    "instance_name = 'eil51_10_usw_10_03'\n",
    "n_trials = 5000\n",
    "n_jobs = 6\n",
    "if debug_mode:\n",
    "    n_trials = 2\n",
    "    n_jobs = 2\n",
    "save_path = Path(\"./study.pkl\")\n",
    "sampler = optuna.samplers.TPESampler()"
   ]
  },
  {
   "cell_type": "code",
   "execution_count": 5,
   "metadata": {},
   "outputs": [
    {
     "name": "stdout",
     "output_type": "stream",
     "text": [
      "$ cmake -DCMAKE_EXPORT_COMPILE_COMMANDS:BOOL=TRUE -G Unix Makefiles -S. -B./build -DCMAKE_BUILD_TYPE:STRING=Release\n",
      "-- Configuring done\n",
      "-- Generating done\n",
      "-- Build files have been written to: /mnt/c/home/vincent/data/mega/Projects/Work/Public/acoplusplus_thop_modified/src/aco++/build\n",
      "\n",
      "\n",
      "\n",
      "$ make -C ./build\n",
      "make: Entering directory '/mnt/c/home/vincent/data/mega/Projects/Work/Public/acoplusplus_thop_modified/src/aco++/build'\n",
      "make[1]: Entering directory '/mnt/c/home/vincent/data/mega/Projects/Work/Public/acoplusplus_thop_modified/src/aco++/build'\n",
      "make[2]: Entering directory '/mnt/c/home/vincent/data/mega/Projects/Work/Public/acoplusplus_thop_modified/src/aco++/build'\n",
      "Consolidate compiler generated dependencies of target acothop\n",
      "make[2]: Leaving directory '/mnt/c/home/vincent/data/mega/Projects/Work/Public/acoplusplus_thop_modified/src/aco++/build'\n",
      "make[2]: Entering directory '/mnt/c/home/vincent/data/mega/Projects/Work/Public/acoplusplus_thop_modified/src/aco++/build'\n",
      "[  9%] Linking CXX executable acothop\n",
      "make[2]: Leaving directory '/mnt/c/home/vincent/data/mega/Projects/Work/Public/acoplusplus_thop_modified/src/aco++/build'\n",
      "[100%] Built target acothop\n",
      "make[1]: Leaving directory '/mnt/c/home/vincent/data/mega/Projects/Work/Public/acoplusplus_thop_modified/src/aco++/build'\n",
      "make: Leaving directory '/mnt/c/home/vincent/data/mega/Projects/Work/Public/acoplusplus_thop_modified/src/aco++/build'\n",
      "\n",
      "\n",
      "\n"
     ]
    }
   ],
   "source": [
    "command = [\n",
    "    'python3',\n",
    "    f'{acopp_dir}/run.py',\n",
    "    '--acopp_dir',\n",
    "    str(acopp_dir),\n",
    "    '--build_only',\n",
    "    '--experiment'\n",
    "    ]\n",
    "result = run_command(command)\n",
    "print(result.stdout.decode())"
   ]
  },
  {
   "cell_type": "code",
   "execution_count": 6,
   "metadata": {},
   "outputs": [
    {
     "name": "stderr",
     "output_type": "stream",
     "text": [
      "[I 2023-06-01 19:38:31,588] A new study created in memory with name: no-name-b656d91c-f748-494d-a92d-7c7e3b87fd2d\n",
      "[I 2023-06-01 19:38:41,944] Trial 1 finished with value: 212611.0 and parameters: {'ants': 182, 'alpha': 6.091843836028321, 'beta': 2.3447041673855953, 'rho': 0.5517627273126631, 'q0': 0.9214273557833694, 'ptries': 1, 'cluster_size': 104, 'sector': 9, 'n_cluster': 10}. Best is trial 0 with value: 214807.0.\n",
      "[I 2023-06-01 19:38:41,946] Trial 0 finished with value: 214807.0 and parameters: {'ants': 465, 'alpha': 8.893845957942668, 'beta': 8.575727655467338, 'rho': 0.4715700371433933, 'q0': 0.6682694943139911, 'ptries': 5, 'cluster_size': 27, 'sector': 6, 'n_cluster': 3}. Best is trial 0 with value: 214807.0.\n"
     ]
    }
   ],
   "source": [
    "study = optuna.create_study(direction='maximize', sampler=sampler)\n",
    "study.optimize(objective, n_trials=n_trials, n_jobs=n_jobs)"
   ]
  },
  {
   "cell_type": "code",
   "execution_count": 7,
   "metadata": {},
   "outputs": [],
   "source": [
    "with open(save_path, \"wb\") as f:\n",
    "    pickle.dump(study, f)"
   ]
  }
 ],
 "metadata": {
  "kernelspec": {
   "display_name": "Python 3",
   "language": "python",
   "name": "python3"
  },
  "language_info": {
   "codemirror_mode": {
    "name": "ipython",
    "version": 3
   },
   "file_extension": ".py",
   "mimetype": "text/x-python",
   "name": "python",
   "nbconvert_exporter": "python",
   "pygments_lexer": "ipython3",
   "version": "3.7.12"
  },
  "orig_nbformat": 4
 },
 "nbformat": 4,
 "nbformat_minor": 2
}
