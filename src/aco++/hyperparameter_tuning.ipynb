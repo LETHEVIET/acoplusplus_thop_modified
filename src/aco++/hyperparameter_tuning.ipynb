{
 "cells": [
  {
   "cell_type": "code",
   "execution_count": 20,
   "metadata": {},
   "outputs": [],
   "source": [
    "from pathlib import Path\n",
    "import optuna\n",
    "from optuna.samplers import CmaEsSampler\n",
    "import subprocess\n",
    "import pickle\n",
    "import time"
   ]
  },
  {
   "cell_type": "code",
   "execution_count": 21,
   "metadata": {},
   "outputs": [],
   "source": [
    "def objective(trial):\n",
    "    global acopp_dir\n",
    "\n",
    "    ants = trial.suggest_int(\"ants\", 1, 500)\n",
    "    alpha = trial.suggest_float(\"alpha\", 0, 10)\n",
    "    beta = trial.suggest_float(\"beta\", 0, 10)\n",
    "    rho = trial.suggest_float(\"rho\", 0, 1)\n",
    "    q0 = trial.suggest_float(\"q0\", 0, 1)\n",
    "    ptries = trial.suggest_int(\"ptries\", 1, 5)\n",
    "\n",
    "    cluster_size = trial.suggest_int(\"cluster_size\", 10, 128)\n",
    "    sector = trial.suggest_int(\"sector\", 2, cluster_size)\n",
    "    n_cluster = trial.suggest_int(\"n_cluster\", 2, 1000 // cluster_size + 1)\n",
    "\n",
    "    command = [\n",
    "        'python3',\n",
    "        f'{acopp_dir}/run.py',\n",
    "        '--acopp_dir',\n",
    "        str(acopp_dir),\n",
    "        '--instance_name',\n",
    "        'eil51_10_usw_10_03',\n",
    "        '--aaco_nc',\n",
    "        '--run_only',\n",
    "        '--experiment',\n",
    "        # '--no_log',\n",
    "        '--sol_dir',\n",
    "        '../../solutions/temp',\n",
    "        '--silent',\n",
    "        '1',\n",
    "        '--random_seed',\n",
    "        str(int(time.time())),\n",
    "        '--alpha',\n",
    "        str(alpha),\n",
    "        '--beta',\n",
    "        str(beta),\n",
    "        '--rho',\n",
    "        str(rho),\n",
    "        '--q0',\n",
    "        str(q0),\n",
    "        '--ants',\n",
    "        str(ants),\n",
    "        '--ptries',\n",
    "        str(ptries),\n",
    "        '--sector',\n",
    "        str(sector),\n",
    "        '--cluster_size',\n",
    "        str(cluster_size),\n",
    "        '--n_cluster',\n",
    "        str(n_cluster),\n",
    "        # \"--time\",\n",
    "        # \"10\"\n",
    "    ]\n",
    "    \n",
    "    result = subprocess.run(command, capture_output=True)\n",
    "    assert (\n",
    "        result.returncode == 0\n",
    "    ), f\"\"\"\n",
    "command:\n",
    "{' '.join(command)}\n",
    "returncode: {result.returncode}\n",
    "stderr:\n",
    "{result.stderr.decode()}\n",
    "stdout:\n",
    "{result.stdout.decode()}\n",
    "\"\"\"\n",
    "    stdout_log = result.stdout.decode()\n",
    "    profit = int(stdout_log)\n",
    "    return profit"
   ]
  },
  {
   "cell_type": "code",
   "execution_count": 22,
   "metadata": {},
   "outputs": [],
   "source": [
    "acopp_dir = Path(\"./\")\n",
    "build_command = [\n",
    "    'python3',\n",
    "    f'{acopp_dir}/run.py',\n",
    "    '--acopp_dir',\n",
    "    str(acopp_dir),\n",
    "    '--build_only',\n",
    "    '--experiment'\n",
    "    ]\n",
    "n_trials = 5000\n",
    "n_jobs = 6\n",
    "# n_trials = 2\n",
    "# n_jobs = 2\n",
    "save_path = Path(\"./study.pkl\")"
   ]
  },
  {
   "cell_type": "code",
   "execution_count": 23,
   "metadata": {},
   "outputs": [
    {
     "name": "stderr",
     "output_type": "stream",
     "text": [
      "\u001b[32m[I 2023-06-01 15:56:39,500]\u001b[0m A new study created in memory with name: no-name-776ded0e-7ef1-483f-ad79-94aaafb9f357\u001b[0m\n",
      "\u001b[32m[I 2023-06-01 15:56:50,344]\u001b[0m Trial 0 finished with value: 210436.0 and parameters: {'ants': 110, 'alpha': 8.30568362612825, 'beta': 0.04884556746251212, 'rho': 0.9992350791706474, 'q0': 0.8784158129042516, 'ptries': 2, 'cluster_size': 82, 'sector': 5, 'n_cluster': 3}. Best is trial 0 with value: 210436.0.\u001b[0m\n",
      "\u001b[32m[I 2023-06-01 15:56:50,646]\u001b[0m Trial 1 finished with value: 216864.0 and parameters: {'ants': 172, 'alpha': 5.350979841350897, 'beta': 3.608813010590548, 'rho': 0.5547783935690562, 'q0': 0.48848294185134733, 'ptries': 3, 'cluster_size': 94, 'sector': 52, 'n_cluster': 2}. Best is trial 1 with value: 216864.0.\u001b[0m\n"
     ]
    }
   ],
   "source": [
    "result = subprocess.run(build_command, capture_output=True)\n",
    "assert (\n",
    "    result.returncode == 0\n",
    "), f\"\"\"\n",
    "command:\n",
    "{' '.join(build_command)}\n",
    "returncode: {result.returncode}\n",
    "stderr:\n",
    "{result.stderr.decode()}\n",
    "stdout:\n",
    "{result.stdout.decode()}\n",
    "\"\"\"\n",
    "study = optuna.create_study(direction='maximize', sampler=CmaEsSampler)\n",
    "study.optimize(objective, n_trials=n_trials, n_jobs=n_jobs)"
   ]
  },
  {
   "cell_type": "code",
   "execution_count": 24,
   "metadata": {},
   "outputs": [],
   "source": [
    "with open(save_path, \"wb\") as f:\n",
    "    pickle.dump(study, f)"
   ]
  }
 ],
 "metadata": {
  "kernelspec": {
   "display_name": "Python 3",
   "language": "python",
   "name": "python3"
  },
  "language_info": {
   "codemirror_mode": {
    "name": "ipython",
    "version": 3
   },
   "file_extension": ".py",
   "mimetype": "text/x-python",
   "name": "python",
   "nbconvert_exporter": "python",
   "pygments_lexer": "ipython3",
   "version": "3.8.10"
  },
  "orig_nbformat": 4
 },
 "nbformat": 4,
 "nbformat_minor": 2
}
